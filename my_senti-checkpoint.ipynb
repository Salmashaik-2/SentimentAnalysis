{
 "cells": [
  {
   "cell_type": "code",
   "execution_count": 4,
   "id": "f2e29eb8-a3c5-4a34-9242-dc32bf774e5c",
   "metadata": {},
   "outputs": [
    {
     "name": "stdout",
     "output_type": "stream",
     "text": [
      "Collecting wordcloud\n",
      "  Downloading wordcloud-1.9.3-cp311-cp311-win_amd64.whl.metadata (3.5 kB)\n",
      "Requirement already satisfied: numpy>=1.6.1 in c:\\users\\shaik\\anaconda3\\lib\\site-packages (from wordcloud) (1.26.4)\n",
      "Requirement already satisfied: pillow in c:\\users\\shaik\\anaconda3\\lib\\site-packages (from wordcloud) (10.2.0)\n",
      "Requirement already satisfied: matplotlib in c:\\users\\shaik\\anaconda3\\lib\\site-packages (from wordcloud) (3.8.0)\n",
      "Requirement already satisfied: contourpy>=1.0.1 in c:\\users\\shaik\\anaconda3\\lib\\site-packages (from matplotlib->wordcloud) (1.2.0)\n",
      "Requirement already satisfied: cycler>=0.10 in c:\\users\\shaik\\anaconda3\\lib\\site-packages (from matplotlib->wordcloud) (0.11.0)\n",
      "Requirement already satisfied: fonttools>=4.22.0 in c:\\users\\shaik\\anaconda3\\lib\\site-packages (from matplotlib->wordcloud) (4.25.0)\n",
      "Requirement already satisfied: kiwisolver>=1.0.1 in c:\\users\\shaik\\anaconda3\\lib\\site-packages (from matplotlib->wordcloud) (1.4.4)\n",
      "Requirement already satisfied: packaging>=20.0 in c:\\users\\shaik\\anaconda3\\lib\\site-packages (from matplotlib->wordcloud) (23.1)\n",
      "Requirement already satisfied: pyparsing>=2.3.1 in c:\\users\\shaik\\anaconda3\\lib\\site-packages (from matplotlib->wordcloud) (3.0.9)\n",
      "Requirement already satisfied: python-dateutil>=2.7 in c:\\users\\shaik\\anaconda3\\lib\\site-packages (from matplotlib->wordcloud) (2.8.2)\n",
      "Requirement already satisfied: six>=1.5 in c:\\users\\shaik\\anaconda3\\lib\\site-packages (from python-dateutil>=2.7->matplotlib->wordcloud) (1.16.0)\n",
      "Downloading wordcloud-1.9.3-cp311-cp311-win_amd64.whl (300 kB)\n",
      "   ---------------------------------------- 0.0/300.2 kB ? eta -:--:--\n",
      "   ---------------------------------------- 0.0/300.2 kB ? eta -:--:--\n",
      "   - -------------------------------------- 10.2/300.2 kB ? eta -:--:--\n",
      "   -- ------------------------------------ 20.5/300.2 kB 320.0 kB/s eta 0:00:01\n",
      "   ----- --------------------------------- 41.0/300.2 kB 279.3 kB/s eta 0:00:01\n",
      "   ------ -------------------------------- 51.2/300.2 kB 327.7 kB/s eta 0:00:01\n",
      "   ---------- ---------------------------- 81.9/300.2 kB 351.4 kB/s eta 0:00:01\n",
      "   -------------- ----------------------- 112.6/300.2 kB 435.7 kB/s eta 0:00:01\n",
      "   ----------------------- -------------- 184.3/300.2 kB 617.3 kB/s eta 0:00:01\n",
      "   ---------------------------- --------- 225.3/300.2 kB 687.0 kB/s eta 0:00:01\n",
      "   --------------------------------- ---- 266.2/300.2 kB 711.1 kB/s eta 0:00:01\n",
      "   ----------------------------------- -- 276.5/300.2 kB 630.9 kB/s eta 0:00:01\n",
      "   -------------------------------------  297.0/300.2 kB 611.3 kB/s eta 0:00:01\n",
      "   -------------------------------------- 300.2/300.2 kB 597.8 kB/s eta 0:00:00\n",
      "Installing collected packages: wordcloud\n",
      "Successfully installed wordcloud-1.9.3\n"
     ]
    }
   ],
   "source": [
    "!pip install wordcloud"
   ]
  },
  {
   "cell_type": "code",
   "execution_count": 14,
   "id": "acf1a34b-b025-45eb-a4f5-19d9293f8c29",
   "metadata": {},
   "outputs": [
    {
     "name": "stdout",
     "output_type": "stream",
     "text": [
      "Requirement already satisfied: xgboost in c:\\users\\shaik\\anaconda3\\lib\\site-packages (2.0.3)\n",
      "Requirement already satisfied: numpy in c:\\users\\shaik\\anaconda3\\lib\\site-packages (from xgboost) (1.26.4)\n",
      "Requirement already satisfied: scipy in c:\\users\\shaik\\anaconda3\\lib\\site-packages (from xgboost) (1.11.4)\n"
     ]
    }
   ],
   "source": [
    "!pip install xgboost"
   ]
  },
  {
   "cell_type": "code",
   "execution_count": 33,
   "id": "4cb45f05-c46f-447b-a884-1ef4c8e5f20e",
   "metadata": {},
   "outputs": [
    {
     "name": "stdout",
     "output_type": "stream",
     "text": [
      "Collecting textblob\n",
      "  Downloading textblob-0.18.0.post0-py3-none-any.whl.metadata (4.5 kB)\n",
      "Requirement already satisfied: nltk>=3.8 in c:\\users\\shaik\\anaconda3\\lib\\site-packages (from textblob) (3.8.1)\n",
      "Requirement already satisfied: click in c:\\users\\shaik\\anaconda3\\lib\\site-packages (from nltk>=3.8->textblob) (8.1.7)\n",
      "Requirement already satisfied: joblib in c:\\users\\shaik\\anaconda3\\lib\\site-packages (from nltk>=3.8->textblob) (1.2.0)\n",
      "Requirement already satisfied: regex>=2021.8.3 in c:\\users\\shaik\\anaconda3\\lib\\site-packages (from nltk>=3.8->textblob) (2023.10.3)\n",
      "Requirement already satisfied: tqdm in c:\\users\\shaik\\anaconda3\\lib\\site-packages (from nltk>=3.8->textblob) (4.65.0)\n",
      "Requirement already satisfied: colorama in c:\\users\\shaik\\anaconda3\\lib\\site-packages (from click->nltk>=3.8->textblob) (0.4.6)\n",
      "Downloading textblob-0.18.0.post0-py3-none-any.whl (626 kB)\n",
      "   ---------------------------------------- 0.0/626.3 kB ? eta -:--:--\n",
      "   ---------------------------------------- 0.0/626.3 kB ? eta -:--:--\n",
      "   ---------------------------------------- 0.0/626.3 kB ? eta -:--:--\n",
      "    --------------------------------------- 10.2/626.3 kB ? eta -:--:--\n",
      "   - ------------------------------------- 20.5/626.3 kB 162.5 kB/s eta 0:00:04\n",
      "   - ------------------------------------- 20.5/626.3 kB 162.5 kB/s eta 0:00:04\n",
      "   - ------------------------------------- 20.5/626.3 kB 162.5 kB/s eta 0:00:04\n",
      "   - ------------------------------------- 30.7/626.3 kB 119.1 kB/s eta 0:00:06\n",
      "   - ------------------------------------- 30.7/626.3 kB 119.1 kB/s eta 0:00:06\n",
      "   -- ------------------------------------ 41.0/626.3 kB 108.9 kB/s eta 0:00:06\n",
      "   -- ------------------------------------ 41.0/626.3 kB 108.9 kB/s eta 0:00:06\n",
      "   -- ------------------------------------ 41.0/626.3 kB 108.9 kB/s eta 0:00:06\n",
      "   --- ----------------------------------- 61.4/626.3 kB 125.8 kB/s eta 0:00:05\n",
      "   ----- --------------------------------- 81.9/626.3 kB 147.8 kB/s eta 0:00:04\n",
      "   ----- --------------------------------- 92.2/626.3 kB 154.0 kB/s eta 0:00:04\n",
      "   ----- --------------------------------- 92.2/626.3 kB 154.0 kB/s eta 0:00:04\n",
      "   ----- --------------------------------- 92.2/626.3 kB 154.0 kB/s eta 0:00:04\n",
      "   ----- --------------------------------- 92.2/626.3 kB 154.0 kB/s eta 0:00:04\n",
      "   ------ ------------------------------- 112.6/626.3 kB 145.7 kB/s eta 0:00:04\n",
      "   ------ ------------------------------- 112.6/626.3 kB 145.7 kB/s eta 0:00:04\n",
      "   ------ ------------------------------- 112.6/626.3 kB 145.7 kB/s eta 0:00:04\n",
      "   ------ ------------------------------- 112.6/626.3 kB 145.7 kB/s eta 0:00:04\n",
      "   ------ ------------------------------- 112.6/626.3 kB 145.7 kB/s eta 0:00:04\n",
      "   ------ ------------------------------- 112.6/626.3 kB 145.7 kB/s eta 0:00:04\n",
      "   ------ ------------------------------- 112.6/626.3 kB 145.7 kB/s eta 0:00:04\n",
      "   ------ ------------------------------- 112.6/626.3 kB 145.7 kB/s eta 0:00:04\n",
      "   ------ ------------------------------- 112.6/626.3 kB 145.7 kB/s eta 0:00:04\n",
      "   ------ ------------------------------- 112.6/626.3 kB 145.7 kB/s eta 0:00:04\n",
      "   ------ ------------------------------- 112.6/626.3 kB 145.7 kB/s eta 0:00:04\n",
      "   ------ ------------------------------- 112.6/626.3 kB 145.7 kB/s eta 0:00:04\n",
      "   ------ ------------------------------- 112.6/626.3 kB 145.7 kB/s eta 0:00:04\n",
      "   ------ ------------------------------- 112.6/626.3 kB 145.7 kB/s eta 0:00:04\n",
      "   ------ ------------------------------- 112.6/626.3 kB 145.7 kB/s eta 0:00:04\n",
      "   ------ ------------------------------- 112.6/626.3 kB 145.7 kB/s eta 0:00:04\n",
      "   ------ ------------------------------- 112.6/626.3 kB 145.7 kB/s eta 0:00:04\n",
      "   ------ ------------------------------- 112.6/626.3 kB 145.7 kB/s eta 0:00:04\n",
      "   ------- ------------------------------- 122.9/626.3 kB 73.5 kB/s eta 0:00:07\n",
      "   ------- ------------------------------- 122.9/626.3 kB 73.5 kB/s eta 0:00:07\n",
      "   ------- ------------------------------- 122.9/626.3 kB 73.5 kB/s eta 0:00:07\n",
      "   ------- ------------------------------- 122.9/626.3 kB 73.5 kB/s eta 0:00:07\n",
      "   ------- ------------------------------- 122.9/626.3 kB 73.5 kB/s eta 0:00:07\n",
      "   ------- ------------------------------- 122.9/626.3 kB 73.5 kB/s eta 0:00:07\n",
      "   ------- ------------------------------- 122.9/626.3 kB 73.5 kB/s eta 0:00:07\n",
      "   ------- ------------------------------- 122.9/626.3 kB 73.5 kB/s eta 0:00:07\n",
      "   ------- ------------------------------- 122.9/626.3 kB 73.5 kB/s eta 0:00:07\n",
      "   ------- ------------------------------- 122.9/626.3 kB 73.5 kB/s eta 0:00:07\n",
      "   ------- ------------------------------- 122.9/626.3 kB 73.5 kB/s eta 0:00:07\n",
      "   ------- ------------------------------- 122.9/626.3 kB 73.5 kB/s eta 0:00:07\n",
      "   ------- ------------------------------- 122.9/626.3 kB 73.5 kB/s eta 0:00:07\n",
      "   -------- ------------------------------ 143.4/626.3 kB 61.3 kB/s eta 0:00:08\n",
      "   -------- ------------------------------ 143.4/626.3 kB 61.3 kB/s eta 0:00:08\n",
      "   -------- ------------------------------ 143.4/626.3 kB 61.3 kB/s eta 0:00:08\n",
      "   -------- ------------------------------ 143.4/626.3 kB 61.3 kB/s eta 0:00:08\n",
      "   -------- ------------------------------ 143.4/626.3 kB 61.3 kB/s eta 0:00:08\n",
      "   -------- ------------------------------ 143.4/626.3 kB 61.3 kB/s eta 0:00:08\n",
      "   -------- ------------------------------ 143.4/626.3 kB 61.3 kB/s eta 0:00:08\n",
      "   -------- ------------------------------ 143.4/626.3 kB 61.3 kB/s eta 0:00:08\n",
      "   -------- ------------------------------ 143.4/626.3 kB 61.3 kB/s eta 0:00:08\n",
      "   -------- ------------------------------ 143.4/626.3 kB 61.3 kB/s eta 0:00:08\n",
      "   -------- ------------------------------ 143.4/626.3 kB 61.3 kB/s eta 0:00:08\n",
      "   -------- ------------------------------ 143.4/626.3 kB 61.3 kB/s eta 0:00:08\n",
      "   -------- ------------------------------ 143.4/626.3 kB 61.3 kB/s eta 0:00:08\n",
      "   -------- ------------------------------ 143.4/626.3 kB 61.3 kB/s eta 0:00:08\n",
      "   -------- ------------------------------ 143.4/626.3 kB 61.3 kB/s eta 0:00:08\n",
      "   -------- ------------------------------ 143.4/626.3 kB 61.3 kB/s eta 0:00:08\n",
      "   -------- ------------------------------ 143.4/626.3 kB 61.3 kB/s eta 0:00:08\n",
      "   -------- ------------------------------ 143.4/626.3 kB 61.3 kB/s eta 0:00:08\n",
      "   -------- ------------------------------ 143.4/626.3 kB 61.3 kB/s eta 0:00:08\n",
      "   -------- ------------------------------ 143.4/626.3 kB 61.3 kB/s eta 0:00:08\n",
      "   -------- ------------------------------ 143.4/626.3 kB 61.3 kB/s eta 0:00:08\n",
      "   ---------- ---------------------------- 163.8/626.3 kB 48.4 kB/s eta 0:00:10\n",
      "   ---------- ---------------------------- 163.8/626.3 kB 48.4 kB/s eta 0:00:10\n",
      "   ---------- ---------------------------- 163.8/626.3 kB 48.4 kB/s eta 0:00:10\n",
      "   ---------- ---------------------------- 163.8/626.3 kB 48.4 kB/s eta 0:00:10\n",
      "   ---------- ---------------------------- 163.8/626.3 kB 48.4 kB/s eta 0:00:10\n",
      "   ---------- ---------------------------- 163.8/626.3 kB 48.4 kB/s eta 0:00:10\n",
      "   ---------- ---------------------------- 163.8/626.3 kB 48.4 kB/s eta 0:00:10\n",
      "   ---------- ---------------------------- 163.8/626.3 kB 48.4 kB/s eta 0:00:10\n",
      "   ---------- ---------------------------- 163.8/626.3 kB 48.4 kB/s eta 0:00:10\n",
      "   ---------- ---------------------------- 163.8/626.3 kB 48.4 kB/s eta 0:00:10\n",
      "   ---------- ---------------------------- 163.8/626.3 kB 48.4 kB/s eta 0:00:10\n",
      "   ---------- ---------------------------- 163.8/626.3 kB 48.4 kB/s eta 0:00:10\n",
      "   ---------- ---------------------------- 163.8/626.3 kB 48.4 kB/s eta 0:00:10\n",
      "   ---------- ---------------------------- 163.8/626.3 kB 48.4 kB/s eta 0:00:10\n",
      "   ---------- ---------------------------- 163.8/626.3 kB 48.4 kB/s eta 0:00:10\n",
      "   ---------- ---------------------------- 163.8/626.3 kB 48.4 kB/s eta 0:00:10\n",
      "   ---------- ---------------------------- 163.8/626.3 kB 48.4 kB/s eta 0:00:10\n",
      "   ---------- ---------------------------- 174.1/626.3 kB 40.6 kB/s eta 0:00:12\n",
      "   ---------- ---------------------------- 174.1/626.3 kB 40.6 kB/s eta 0:00:12\n",
      "   ---------- ---------------------------- 174.1/626.3 kB 40.6 kB/s eta 0:00:12\n",
      "   ---------- ---------------------------- 174.1/626.3 kB 40.6 kB/s eta 0:00:12\n",
      "   ---------- ---------------------------- 174.1/626.3 kB 40.6 kB/s eta 0:00:12\n",
      "   ---------- ---------------------------- 174.1/626.3 kB 40.6 kB/s eta 0:00:12\n",
      "   ---------- ---------------------------- 174.1/626.3 kB 40.6 kB/s eta 0:00:12\n",
      "   ---------- ---------------------------- 174.1/626.3 kB 40.6 kB/s eta 0:00:12\n",
      "   ---------- ---------------------------- 174.1/626.3 kB 40.6 kB/s eta 0:00:12\n",
      "   ---------- ---------------------------- 174.1/626.3 kB 40.6 kB/s eta 0:00:12\n",
      "   ---------- ---------------------------- 174.1/626.3 kB 40.6 kB/s eta 0:00:12\n",
      "   ---------- ---------------------------- 174.1/626.3 kB 40.6 kB/s eta 0:00:12\n",
      "   ---------- ---------------------------- 174.1/626.3 kB 40.6 kB/s eta 0:00:12\n",
      "   ---------- ---------------------------- 174.1/626.3 kB 40.6 kB/s eta 0:00:12\n",
      "   ------------ -------------------------- 194.6/626.3 kB 38.9 kB/s eta 0:00:12\n",
      "   ------------ -------------------------- 194.6/626.3 kB 38.9 kB/s eta 0:00:12\n",
      "   ------------ -------------------------- 194.6/626.3 kB 38.9 kB/s eta 0:00:12\n",
      "   ------------ -------------------------- 194.6/626.3 kB 38.9 kB/s eta 0:00:12\n",
      "   ------------ -------------------------- 194.6/626.3 kB 38.9 kB/s eta 0:00:12\n",
      "   ------------ -------------------------- 194.6/626.3 kB 38.9 kB/s eta 0:00:12\n",
      "   ------------ -------------------------- 204.8/626.3 kB 38.8 kB/s eta 0:00:11\n",
      "   ------------ -------------------------- 204.8/626.3 kB 38.8 kB/s eta 0:00:11\n",
      "   -------------- ------------------------ 225.3/626.3 kB 42.2 kB/s eta 0:00:10\n",
      "   -------------- ------------------------ 225.3/626.3 kB 42.2 kB/s eta 0:00:10\n",
      "   -------------- ------------------------ 225.3/626.3 kB 42.2 kB/s eta 0:00:10\n",
      "   -------------- ------------------------ 225.3/626.3 kB 42.2 kB/s eta 0:00:10\n",
      "   -------------- ------------------------ 225.3/626.3 kB 42.2 kB/s eta 0:00:10\n",
      "   -------------- ------------------------ 225.3/626.3 kB 42.2 kB/s eta 0:00:10\n",
      "   -------------- ------------------------ 225.3/626.3 kB 42.2 kB/s eta 0:00:10\n",
      "   -------------- ------------------------ 225.3/626.3 kB 42.2 kB/s eta 0:00:10\n",
      "   -------------- ------------------------ 225.3/626.3 kB 42.2 kB/s eta 0:00:10\n",
      "   -------------- ------------------------ 225.3/626.3 kB 42.2 kB/s eta 0:00:10\n",
      "   -------------- ------------------------ 225.3/626.3 kB 42.2 kB/s eta 0:00:10\n",
      "   -------------- ------------------------ 225.3/626.3 kB 42.2 kB/s eta 0:00:10\n",
      "   -------------- ------------------------ 225.3/626.3 kB 42.2 kB/s eta 0:00:10\n",
      "   -------------- ------------------------ 225.3/626.3 kB 42.2 kB/s eta 0:00:10\n",
      "   -------------- ------------------------ 225.3/626.3 kB 42.2 kB/s eta 0:00:10\n",
      "   -------------- ------------------------ 225.3/626.3 kB 42.2 kB/s eta 0:00:10\n",
      "   -------------- ------------------------ 225.3/626.3 kB 42.2 kB/s eta 0:00:10\n",
      "   -------------- ------------------------ 225.3/626.3 kB 42.2 kB/s eta 0:00:10\n",
      "   -------------- ------------------------ 225.3/626.3 kB 42.2 kB/s eta 0:00:10\n",
      "   -------------- ------------------------ 225.3/626.3 kB 42.2 kB/s eta 0:00:10\n",
      "   -------------- ------------------------ 225.3/626.3 kB 42.2 kB/s eta 0:00:10\n",
      "   -------------- ------------------------ 225.3/626.3 kB 42.2 kB/s eta 0:00:10\n",
      "   -------------- ------------------------ 225.3/626.3 kB 42.2 kB/s eta 0:00:10\n",
      "   -------------- ------------------------ 225.3/626.3 kB 42.2 kB/s eta 0:00:10\n",
      "   --------------- ----------------------- 245.8/626.3 kB 37.8 kB/s eta 0:00:11\n",
      "   --------------- ----------------------- 245.8/626.3 kB 37.8 kB/s eta 0:00:11\n",
      "   --------------- ----------------------- 245.8/626.3 kB 37.8 kB/s eta 0:00:11\n",
      "   --------------- ----------------------- 245.8/626.3 kB 37.8 kB/s eta 0:00:11\n",
      "   --------------- ----------------------- 245.8/626.3 kB 37.8 kB/s eta 0:00:11\n",
      "   --------------- ----------------------- 256.0/626.3 kB 38.0 kB/s eta 0:00:10\n",
      "   --------------- ----------------------- 256.0/626.3 kB 38.0 kB/s eta 0:00:10\n",
      "   --------------- ----------------------- 256.0/626.3 kB 38.0 kB/s eta 0:00:10\n",
      "   ----------------- --------------------- 276.5/626.3 kB 40.3 kB/s eta 0:00:09\n",
      "   ----------------- --------------------- 276.5/626.3 kB 40.3 kB/s eta 0:00:09\n",
      "   ----------------- --------------------- 276.5/626.3 kB 40.3 kB/s eta 0:00:09\n",
      "   ----------------- --------------------- 276.5/626.3 kB 40.3 kB/s eta 0:00:09\n",
      "   ----------------- --------------------- 276.5/626.3 kB 40.3 kB/s eta 0:00:09\n",
      "   ----------------- --------------------- 276.5/626.3 kB 40.3 kB/s eta 0:00:09\n",
      "   ----------------- --------------------- 276.5/626.3 kB 40.3 kB/s eta 0:00:09\n",
      "   ----------------- --------------------- 276.5/626.3 kB 40.3 kB/s eta 0:00:09\n",
      "   ----------------- --------------------- 276.5/626.3 kB 40.3 kB/s eta 0:00:09\n",
      "   ----------------- --------------------- 276.5/626.3 kB 40.3 kB/s eta 0:00:09\n",
      "   ----------------- --------------------- 286.7/626.3 kB 39.0 kB/s eta 0:00:09\n",
      "   ----------------- --------------------- 286.7/626.3 kB 39.0 kB/s eta 0:00:09\n",
      "   ----------------- --------------------- 286.7/626.3 kB 39.0 kB/s eta 0:00:09\n",
      "   ----------------- --------------------- 286.7/626.3 kB 39.0 kB/s eta 0:00:09\n",
      "   ----------------- --------------------- 286.7/626.3 kB 39.0 kB/s eta 0:00:09\n",
      "   ------------------- ------------------- 307.2/626.3 kB 40.2 kB/s eta 0:00:08\n",
      "   ------------------- ------------------- 307.2/626.3 kB 40.2 kB/s eta 0:00:08\n",
      "   ------------------- ------------------- 307.2/626.3 kB 40.2 kB/s eta 0:00:08\n",
      "   ------------------- ------------------- 307.2/626.3 kB 40.2 kB/s eta 0:00:08\n",
      "   ------------------- ------------------- 307.2/626.3 kB 40.2 kB/s eta 0:00:08\n",
      "   -------------------- ------------------ 327.7/626.3 kB 41.8 kB/s eta 0:00:08\n",
      "   --------------------- ----------------- 337.9/626.3 kB 42.7 kB/s eta 0:00:07\n",
      "   --------------------- ----------------- 337.9/626.3 kB 42.7 kB/s eta 0:00:07\n",
      "   ---------------------- ---------------- 368.6/626.3 kB 46.1 kB/s eta 0:00:06\n",
      "   ---------------------- ---------------- 368.6/626.3 kB 46.1 kB/s eta 0:00:06\n",
      "   ------------------------ -------------- 389.1/626.3 kB 48.3 kB/s eta 0:00:05\n",
      "   ------------------------- ------------- 409.6/626.3 kB 50.6 kB/s eta 0:00:05\n",
      "   -------------------------- ------------ 419.8/626.3 kB 51.6 kB/s eta 0:00:05\n",
      "   --------------------------- ----------- 440.3/626.3 kB 53.9 kB/s eta 0:00:04\n",
      "   ---------------------------- ---------- 450.6/626.3 kB 54.7 kB/s eta 0:00:04\n",
      "   ----------------------------- --------- 471.0/626.3 kB 56.8 kB/s eta 0:00:03\n",
      "   ----------------------------- --------- 471.0/626.3 kB 56.8 kB/s eta 0:00:03\n",
      "   ----------------------------- --------- 471.0/626.3 kB 56.8 kB/s eta 0:00:03\n",
      "   ------------------------------ -------- 491.5/626.3 kB 58.6 kB/s eta 0:00:03\n",
      "   ------------------------------- ------- 501.8/626.3 kB 59.2 kB/s eta 0:00:03\n",
      "   -------------------------------- ------ 522.2/626.3 kB 61.2 kB/s eta 0:00:02\n",
      "   --------------------------------- ----- 532.5/626.3 kB 62.0 kB/s eta 0:00:02\n",
      "   ---------------------------------- ---- 553.0/626.3 kB 63.8 kB/s eta 0:00:02\n",
      "   ---------------------------------- ---- 553.0/626.3 kB 63.8 kB/s eta 0:00:02\n",
      "   ------------------------------------ -- 583.7/626.3 kB 66.4 kB/s eta 0:00:01\n",
      "   ------------------------------------- - 604.2/626.3 kB 68.4 kB/s eta 0:00:01\n",
      "   ------------------------------------- - 604.2/626.3 kB 68.4 kB/s eta 0:00:01\n",
      "   ------------------------------------- - 604.2/626.3 kB 68.4 kB/s eta 0:00:01\n",
      "   --------------------------------------- 626.3/626.3 kB 69.8 kB/s eta 0:00:00\n",
      "Installing collected packages: textblob\n",
      "Successfully installed textblob-0.18.0.post0\n"
     ]
    }
   ],
   "source": [
    "!pip install -U textblob"
   ]
  },
  {
   "cell_type": "code",
   "execution_count": 34,
   "id": "93672403-d37a-42f5-814a-5c606ffb3c89",
   "metadata": {},
   "outputs": [],
   "source": [
    "import pandas as pd\n",
    "import numpy as np\n",
    "import matplotlib.pyplot as plt\n",
    "import nltk\n",
    "import re\n",
    "\n",
    "from PIL import Image\n",
    "from nltk.corpus import stopwords\n",
    "from nltk.sentiment import SentimentIntensityAnalyzer\n",
    "from textblob import Word, TextBlob\n",
    "\n",
    "\n",
    "from wordcloud import WordCloud\n",
    "from warnings import filterwarnings"
   ]
  },
  {
   "cell_type": "code",
   "execution_count": 36,
   "id": "b9f47d8d-acd9-4429-86e0-2883be1c7f0a",
   "metadata": {},
   "outputs": [
    {
     "data": {
      "text/html": [
       "<div>\n",
       "<style scoped>\n",
       "    .dataframe tbody tr th:only-of-type {\n",
       "        vertical-align: middle;\n",
       "    }\n",
       "\n",
       "    .dataframe tbody tr th {\n",
       "        vertical-align: top;\n",
       "    }\n",
       "\n",
       "    .dataframe thead th {\n",
       "        text-align: right;\n",
       "    }\n",
       "</style>\n",
       "<table border=\"1\" class=\"dataframe\">\n",
       "  <thead>\n",
       "    <tr style=\"text-align: right;\">\n",
       "      <th></th>\n",
       "      <th>Review</th>\n",
       "      <th>Liked</th>\n",
       "    </tr>\n",
       "  </thead>\n",
       "  <tbody>\n",
       "    <tr>\n",
       "      <th>0</th>\n",
       "      <td>Wow... Loved this place.</td>\n",
       "      <td>1</td>\n",
       "    </tr>\n",
       "    <tr>\n",
       "      <th>1</th>\n",
       "      <td>Crust is not good.</td>\n",
       "      <td>0</td>\n",
       "    </tr>\n",
       "    <tr>\n",
       "      <th>2</th>\n",
       "      <td>Not tasty and the texture was just nasty.</td>\n",
       "      <td>0</td>\n",
       "    </tr>\n",
       "    <tr>\n",
       "      <th>3</th>\n",
       "      <td>Stopped by during the late May bank holiday of...</td>\n",
       "      <td>1</td>\n",
       "    </tr>\n",
       "    <tr>\n",
       "      <th>4</th>\n",
       "      <td>The selection on the menu was great and so wer...</td>\n",
       "      <td>1</td>\n",
       "    </tr>\n",
       "  </tbody>\n",
       "</table>\n",
       "</div>"
      ],
      "text/plain": [
       "                                              Review  Liked\n",
       "0                           Wow... Loved this place.      1\n",
       "1                                 Crust is not good.      0\n",
       "2          Not tasty and the texture was just nasty.      0\n",
       "3  Stopped by during the late May bank holiday of...      1\n",
       "4  The selection on the menu was great and so wer...      1"
      ]
     },
     "execution_count": 36,
     "metadata": {},
     "output_type": "execute_result"
    }
   ],
   "source": [
    "restaurant_df = pd.read_csv(r'C:\\Users\\shaik\\Downloads\\Restaurant_Reviews.tsv', sep=\"\\t\")\n",
    "restaurant_df.head()"
   ]
  },
  {
   "cell_type": "code",
   "execution_count": 21,
   "id": "38a8d0d2-3873-483c-af52-1ff3ebf79396",
   "metadata": {},
   "outputs": [
    {
     "data": {
      "text/html": [
       "<div>\n",
       "<style scoped>\n",
       "    .dataframe tbody tr th:only-of-type {\n",
       "        vertical-align: middle;\n",
       "    }\n",
       "\n",
       "    .dataframe tbody tr th {\n",
       "        vertical-align: top;\n",
       "    }\n",
       "\n",
       "    .dataframe thead th {\n",
       "        text-align: right;\n",
       "    }\n",
       "</style>\n",
       "<table border=\"1\" class=\"dataframe\">\n",
       "  <thead>\n",
       "    <tr style=\"text-align: right;\">\n",
       "      <th></th>\n",
       "      <th>Review</th>\n",
       "      <th>Liked</th>\n",
       "      <th>Length</th>\n",
       "    </tr>\n",
       "  </thead>\n",
       "  <tbody>\n",
       "    <tr>\n",
       "      <th>0</th>\n",
       "      <td>Wow... Loved this place.</td>\n",
       "      <td>1</td>\n",
       "      <td>24</td>\n",
       "    </tr>\n",
       "    <tr>\n",
       "      <th>1</th>\n",
       "      <td>Crust is not good.</td>\n",
       "      <td>0</td>\n",
       "      <td>18</td>\n",
       "    </tr>\n",
       "    <tr>\n",
       "      <th>2</th>\n",
       "      <td>Not tasty and the texture was just nasty.</td>\n",
       "      <td>0</td>\n",
       "      <td>41</td>\n",
       "    </tr>\n",
       "    <tr>\n",
       "      <th>3</th>\n",
       "      <td>Stopped by during the late May bank holiday of...</td>\n",
       "      <td>1</td>\n",
       "      <td>87</td>\n",
       "    </tr>\n",
       "    <tr>\n",
       "      <th>4</th>\n",
       "      <td>The selection on the menu was great and so wer...</td>\n",
       "      <td>1</td>\n",
       "      <td>59</td>\n",
       "    </tr>\n",
       "  </tbody>\n",
       "</table>\n",
       "</div>"
      ],
      "text/plain": [
       "                                              Review  Liked  Length\n",
       "0                           Wow... Loved this place.      1      24\n",
       "1                                 Crust is not good.      0      18\n",
       "2          Not tasty and the texture was just nasty.      0      41\n",
       "3  Stopped by during the late May bank holiday of...      1      87\n",
       "4  The selection on the menu was great and so wer...      1      59"
      ]
     },
     "execution_count": 21,
     "metadata": {},
     "output_type": "execute_result"
    }
   ],
   "source": [
    "df['Length']= df['Review'].apply(len) \n",
    "df.head()"
   ]
  },
  {
   "cell_type": "code",
   "execution_count": 37,
   "id": "bd782b45-254a-4c85-afab-28dd7a75f68c",
   "metadata": {},
   "outputs": [
    {
     "name": "stdout",
     "output_type": "stream",
     "text": [
      "<class 'pandas.core.frame.DataFrame'>\n",
      "RangeIndex: 1000 entries, 0 to 999\n",
      "Data columns (total 2 columns):\n",
      " #   Column  Non-Null Count  Dtype \n",
      "---  ------  --------------  ----- \n",
      " 0   Review  1000 non-null   object\n",
      " 1   Liked   1000 non-null   int64 \n",
      "dtypes: int64(1), object(1)\n",
      "memory usage: 15.8+ KB\n"
     ]
    }
   ],
   "source": [
    "restaurant_df.info()"
   ]
  },
  {
   "cell_type": "code",
   "execution_count": 38,
   "id": "fef8578f-2de2-4117-a0e9-de3c67a1949c",
   "metadata": {},
   "outputs": [
    {
     "data": {
      "text/html": [
       "<div>\n",
       "<style scoped>\n",
       "    .dataframe tbody tr th:only-of-type {\n",
       "        vertical-align: middle;\n",
       "    }\n",
       "\n",
       "    .dataframe tbody tr th {\n",
       "        vertical-align: top;\n",
       "    }\n",
       "\n",
       "    .dataframe thead th {\n",
       "        text-align: right;\n",
       "    }\n",
       "</style>\n",
       "<table border=\"1\" class=\"dataframe\">\n",
       "  <thead>\n",
       "    <tr style=\"text-align: right;\">\n",
       "      <th></th>\n",
       "      <th>Review</th>\n",
       "      <th>Liked</th>\n",
       "    </tr>\n",
       "  </thead>\n",
       "  <tbody>\n",
       "    <tr>\n",
       "      <th>0</th>\n",
       "      <td>wow... loved this place.</td>\n",
       "      <td>1</td>\n",
       "    </tr>\n",
       "    <tr>\n",
       "      <th>1</th>\n",
       "      <td>crust is not good.</td>\n",
       "      <td>0</td>\n",
       "    </tr>\n",
       "    <tr>\n",
       "      <th>2</th>\n",
       "      <td>not tasty and the texture was just nasty.</td>\n",
       "      <td>0</td>\n",
       "    </tr>\n",
       "    <tr>\n",
       "      <th>3</th>\n",
       "      <td>stopped by during the late may bank holiday of...</td>\n",
       "      <td>1</td>\n",
       "    </tr>\n",
       "    <tr>\n",
       "      <th>4</th>\n",
       "      <td>the selection on the menu was great and so wer...</td>\n",
       "      <td>1</td>\n",
       "    </tr>\n",
       "  </tbody>\n",
       "</table>\n",
       "</div>"
      ],
      "text/plain": [
       "                                              Review  Liked\n",
       "0                           wow... loved this place.      1\n",
       "1                                 crust is not good.      0\n",
       "2          not tasty and the texture was just nasty.      0\n",
       "3  stopped by during the late may bank holiday of...      1\n",
       "4  the selection on the menu was great and so wer...      1"
      ]
     },
     "execution_count": 38,
     "metadata": {},
     "output_type": "execute_result"
    }
   ],
   "source": [
    "restaurant_df['Review'] = restaurant_df['Review'].str.lower()\n",
    "restaurant_df.head()"
   ]
  },
  {
   "cell_type": "code",
   "execution_count": 39,
   "id": "02ac17b7-7dd9-4d4c-a639-29e2856afbc8",
   "metadata": {},
   "outputs": [
    {
     "data": {
      "text/html": [
       "<div>\n",
       "<style scoped>\n",
       "    .dataframe tbody tr th:only-of-type {\n",
       "        vertical-align: middle;\n",
       "    }\n",
       "\n",
       "    .dataframe tbody tr th {\n",
       "        vertical-align: top;\n",
       "    }\n",
       "\n",
       "    .dataframe thead th {\n",
       "        text-align: right;\n",
       "    }\n",
       "</style>\n",
       "<table border=\"1\" class=\"dataframe\">\n",
       "  <thead>\n",
       "    <tr style=\"text-align: right;\">\n",
       "      <th></th>\n",
       "      <th>Review</th>\n",
       "      <th>Liked</th>\n",
       "    </tr>\n",
       "  </thead>\n",
       "  <tbody>\n",
       "    <tr>\n",
       "      <th>0</th>\n",
       "      <td>wow loved this place</td>\n",
       "      <td>1</td>\n",
       "    </tr>\n",
       "    <tr>\n",
       "      <th>1</th>\n",
       "      <td>crust is not good</td>\n",
       "      <td>0</td>\n",
       "    </tr>\n",
       "    <tr>\n",
       "      <th>2</th>\n",
       "      <td>not tasty and the texture was just nasty</td>\n",
       "      <td>0</td>\n",
       "    </tr>\n",
       "    <tr>\n",
       "      <th>3</th>\n",
       "      <td>stopped by during the late may bank holiday of...</td>\n",
       "      <td>1</td>\n",
       "    </tr>\n",
       "    <tr>\n",
       "      <th>4</th>\n",
       "      <td>the selection on the menu was great and so wer...</td>\n",
       "      <td>1</td>\n",
       "    </tr>\n",
       "  </tbody>\n",
       "</table>\n",
       "</div>"
      ],
      "text/plain": [
       "                                              Review  Liked\n",
       "0                               wow loved this place      1\n",
       "1                                  crust is not good      0\n",
       "2           not tasty and the texture was just nasty      0\n",
       "3  stopped by during the late may bank holiday of...      1\n",
       "4  the selection on the menu was great and so wer...      1"
      ]
     },
     "execution_count": 39,
     "metadata": {},
     "output_type": "execute_result"
    }
   ],
   "source": [
    "def clean_text(text):\n",
    "    # Özel karakterleri ve sayıları kaldır\n",
    "    cleaned_text = re.sub(r'[^a-zA-Z\\s]', '', text)\n",
    "    return cleaned_text\n",
    "\n",
    "restaurant_df['Review'] = restaurant_df['Review'].apply(clean_text)\n",
    "restaurant_df.head()"
   ]
  },
  {
   "cell_type": "code",
   "execution_count": 40,
   "id": "5a61db7a-df9e-4653-92c9-41f69054dcc5",
   "metadata": {},
   "outputs": [
    {
     "data": {
      "text/html": [
       "<div>\n",
       "<style scoped>\n",
       "    .dataframe tbody tr th:only-of-type {\n",
       "        vertical-align: middle;\n",
       "    }\n",
       "\n",
       "    .dataframe tbody tr th {\n",
       "        vertical-align: top;\n",
       "    }\n",
       "\n",
       "    .dataframe thead th {\n",
       "        text-align: right;\n",
       "    }\n",
       "</style>\n",
       "<table border=\"1\" class=\"dataframe\">\n",
       "  <thead>\n",
       "    <tr style=\"text-align: right;\">\n",
       "      <th></th>\n",
       "      <th>Review</th>\n",
       "      <th>Liked</th>\n",
       "    </tr>\n",
       "  </thead>\n",
       "  <tbody>\n",
       "    <tr>\n",
       "      <th>0</th>\n",
       "      <td>wow loved place</td>\n",
       "      <td>1</td>\n",
       "    </tr>\n",
       "    <tr>\n",
       "      <th>1</th>\n",
       "      <td>crust good</td>\n",
       "      <td>0</td>\n",
       "    </tr>\n",
       "    <tr>\n",
       "      <th>2</th>\n",
       "      <td>tasty texture nasty</td>\n",
       "      <td>0</td>\n",
       "    </tr>\n",
       "    <tr>\n",
       "      <th>3</th>\n",
       "      <td>stopped late may bank holiday rick steve recom...</td>\n",
       "      <td>1</td>\n",
       "    </tr>\n",
       "    <tr>\n",
       "      <th>4</th>\n",
       "      <td>selection menu great prices</td>\n",
       "      <td>1</td>\n",
       "    </tr>\n",
       "  </tbody>\n",
       "</table>\n",
       "</div>"
      ],
      "text/plain": [
       "                                              Review  Liked\n",
       "0                                    wow loved place      1\n",
       "1                                         crust good      0\n",
       "2                                tasty texture nasty      0\n",
       "3  stopped late may bank holiday rick steve recom...      1\n",
       "4                        selection menu great prices      1"
      ]
     },
     "execution_count": 40,
     "metadata": {},
     "output_type": "execute_result"
    }
   ],
   "source": [
    "def remove_stopwords(text):\n",
    "    stop_words = set(stopwords.words('english'))\n",
    "    words = text.split()\n",
    "    filtered_words = [word for word in words if word.lower() not in stop_words]\n",
    "    return \" \".join(filtered_words)\n",
    "\n",
    "restaurant_df['Review'] = restaurant_df['Review'].apply(remove_stopwords)\n",
    "restaurant_df.head()"
   ]
  },
  {
   "cell_type": "code",
   "execution_count": 41,
   "id": "afc954f2-dc25-49ee-9363-d2f7a82b8535",
   "metadata": {},
   "outputs": [
    {
     "data": {
      "text/html": [
       "<div>\n",
       "<style scoped>\n",
       "    .dataframe tbody tr th:only-of-type {\n",
       "        vertical-align: middle;\n",
       "    }\n",
       "\n",
       "    .dataframe tbody tr th {\n",
       "        vertical-align: top;\n",
       "    }\n",
       "\n",
       "    .dataframe thead th {\n",
       "        text-align: right;\n",
       "    }\n",
       "</style>\n",
       "<table border=\"1\" class=\"dataframe\">\n",
       "  <thead>\n",
       "    <tr style=\"text-align: right;\">\n",
       "      <th></th>\n",
       "      <th>Review</th>\n",
       "      <th>Liked</th>\n",
       "    </tr>\n",
       "  </thead>\n",
       "  <tbody>\n",
       "    <tr>\n",
       "      <th>0</th>\n",
       "      <td>wow loved place</td>\n",
       "      <td>1</td>\n",
       "    </tr>\n",
       "    <tr>\n",
       "      <th>1</th>\n",
       "      <td>crust good</td>\n",
       "      <td>0</td>\n",
       "    </tr>\n",
       "    <tr>\n",
       "      <th>2</th>\n",
       "      <td>tasty texture nasty</td>\n",
       "      <td>0</td>\n",
       "    </tr>\n",
       "    <tr>\n",
       "      <th>3</th>\n",
       "      <td>stopped late may bank holiday rick steve recom...</td>\n",
       "      <td>1</td>\n",
       "    </tr>\n",
       "    <tr>\n",
       "      <th>4</th>\n",
       "      <td>selection menu great prices</td>\n",
       "      <td>1</td>\n",
       "    </tr>\n",
       "  </tbody>\n",
       "</table>\n",
       "</div>"
      ],
      "text/plain": [
       "                                              Review  Liked\n",
       "0                                    wow loved place      1\n",
       "1                                         crust good      0\n",
       "2                                tasty texture nasty      0\n",
       "3  stopped late may bank holiday rick steve recom...      1\n",
       "4                        selection menu great prices      1"
      ]
     },
     "execution_count": 41,
     "metadata": {},
     "output_type": "execute_result"
    }
   ],
   "source": [
    "dropping = pd.Series(' '.join(restaurant_df['Review']).split()).value_counts()[-250:]\n",
    "restaurant_df['Review'] = restaurant_df['Review'].apply(lambda x: \" \".join(x for x in x.split() if x not in dropping))\n",
    "restaurant_df.head()  "
   ]
  },
  {
   "cell_type": "code",
   "execution_count": 46,
   "id": "ed77ef0c-264e-4d6c-849b-12bb1886995d",
   "metadata": {},
   "outputs": [
    {
     "name": "stderr",
     "output_type": "stream",
     "text": [
      "[nltk_data] Downloading package punkt to\n",
      "[nltk_data]     C:\\Users\\shaik\\AppData\\Roaming\\nltk_data...\n",
      "[nltk_data]   Unzipping tokenizers\\punkt.zip.\n"
     ]
    },
    {
     "data": {
      "text/plain": [
       "True"
      ]
     },
     "execution_count": 46,
     "metadata": {},
     "output_type": "execute_result"
    }
   ],
   "source": [
    "import nltk\n",
    "nltk.download('punkt')"
   ]
  },
  {
   "cell_type": "code",
   "execution_count": 47,
   "id": "fa431da4-5f40-4770-9a18-296726302873",
   "metadata": {},
   "outputs": [
    {
     "data": {
      "text/plain": [
       "0                                  [wow, loved, place]\n",
       "1                                        [crust, good]\n",
       "2                              [tasty, texture, nasty]\n",
       "3    [stopped, late, may, bank, holiday, rick, stev...\n",
       "4                     [selection, menu, great, prices]\n",
       "Name: Review, dtype: object"
      ]
     },
     "execution_count": 47,
     "metadata": {},
     "output_type": "execute_result"
    }
   ],
   "source": [
    "restaurant_df['Review'].apply(lambda x: TextBlob(x).words).head()"
   ]
  },
  {
   "cell_type": "code",
   "execution_count": 48,
   "id": "25832566-150c-4dcb-9d96-e74c8c07a729",
   "metadata": {},
   "outputs": [
    {
     "data": {
      "image/png": "[encoded data removed]",
      "text/plain": [
       "<Figure size 640x480 with 1 Axes>"
      ]
     },
     "metadata": {},
     "output_type": "display_data"
    },
    {
     "data": {
      "text/plain": [
       "<wordcloud.wordcloud.WordCloud at 0x28f1fe823d0>"
      ]
     },
     "execution_count": 48,
     "metadata": {},
     "output_type": "execute_result"
    }
   ],
   "source": [
    "from wordcloud import WordCloud\n",
    "import matplotlib.pyplot as plt\n",
    "\n",
    "# text değişkenini tanımla\n",
    "text = \" \".join(review for review in restaurant_df[\"Review\"])\n",
    "\n",
    "# WordCloud nesnesini oluştur\n",
    "wordcloud = WordCloud(max_font_size=70,\n",
    "                      max_words=100,\n",
    "                      background_color=\"white\").generate(text)\n",
    "\n",
    "# WordCloud'u göster\n",
    "plt.imshow(wordcloud, interpolation=\"bilinear\")\n",
    "plt.axis(\"off\")\n",
    "plt.show()\n",
    "\n",
    "# WordCloud'u dosyaya kaydet\n",
    "wordcloud.to_file(\"wordcloud.png\")"
   ]
  },
  {
   "cell_type": "code",
   "execution_count": 53,
   "id": "2d546bb4-4b41-473a-ae8b-251516fa6152",
   "metadata": {},
   "outputs": [
    {
     "name": "stderr",
     "output_type": "stream",
     "text": [
      "[nltk_data] Downloading package punkt to\n",
      "[nltk_data]     C:\\Users\\shaik\\AppData\\Roaming\\nltk_data...\n",
      "[nltk_data]   Package punkt is already up-to-date!\n"
     ]
    },
    {
     "data": {
      "text/plain": [
       "True"
      ]
     },
     "execution_count": 53,
     "metadata": {},
     "output_type": "execute_result"
    }
   ],
   "source": [
    "import nltk\n",
    "nltk.download('punkt')"
   ]
  },
  {
   "cell_type": "code",
   "execution_count": 56,
   "id": "8d5e6c72-6291-4b68-aa0d-27e8e647a500",
   "metadata": {},
   "outputs": [
    {
     "name": "stdout",
     "output_type": "stream",
     "text": [
      "Requirement already satisfied: nltk in c:\\users\\shaik\\anaconda3\\lib\\site-packages (3.8.1)\n",
      "Requirement already satisfied: textblob in c:\\users\\shaik\\anaconda3\\lib\\site-packages (0.18.0.post0)\n",
      "Requirement already satisfied: click in c:\\users\\shaik\\anaconda3\\lib\\site-packages (from nltk) (8.1.7)\n",
      "Requirement already satisfied: joblib in c:\\users\\shaik\\anaconda3\\lib\\site-packages (from nltk) (1.2.0)\n",
      "Requirement already satisfied: regex>=2021.8.3 in c:\\users\\shaik\\anaconda3\\lib\\site-packages (from nltk) (2023.10.3)\n",
      "Requirement already satisfied: tqdm in c:\\users\\shaik\\anaconda3\\lib\\site-packages (from nltk) (4.65.0)\n",
      "Requirement already satisfied: colorama in c:\\users\\shaik\\anaconda3\\lib\\site-packages (from click->nltk) (0.4.6)\n",
      "Note: you may need to restart the kernel to use updated packages.\n"
     ]
    }
   ],
   "source": [
    "pip install nltk textblob"
   ]
  },
  {
   "cell_type": "code",
   "execution_count": 60,
   "id": "007b47c0-e28d-47e1-a676-e0c88adfed3f",
   "metadata": {},
   "outputs": [],
   "source": [
    "import nltk"
   ]
  },
  {
   "cell_type": "code",
   "execution_count": 61,
   "id": "a452af85-5330-4861-b1c0-96673cf79370",
   "metadata": {},
   "outputs": [
    {
     "name": "stderr",
     "output_type": "stream",
     "text": [
      "[nltk_data] Downloading package vader_lexicon to\n",
      "[nltk_data]     C:\\Users\\shaik\\AppData\\Roaming\\nltk_data...\n"
     ]
    },
    {
     "data": {
      "text/plain": [
       "True"
      ]
     },
     "execution_count": 61,
     "metadata": {},
     "output_type": "execute_result"
    }
   ],
   "source": [
    "nltk.download('vader_lexicon')"
   ]
  },
  {
   "cell_type": "code",
   "execution_count": 62,
   "id": "88559045-e4f7-46c6-841a-299f4cb3a6b4",
   "metadata": {},
   "outputs": [
    {
     "data": {
      "text/plain": [
       "{'neg': 0.0, 'neu': 0.423, 'pos': 0.577, 'compound': 0.6249}"
      ]
     },
     "execution_count": 62,
     "metadata": {},
     "output_type": "execute_result"
    }
   ],
   "source": [
    "sia = SentimentIntensityAnalyzer()\n",
    "sia.polarity_scores(\"The food was awesome\")"
   ]
  },
  {
   "cell_type": "code",
   "execution_count": 63,
   "id": "f2710d52-b86f-4aa8-8d58-bceb05891606",
   "metadata": {},
   "outputs": [
    {
     "data": {
      "text/plain": [
       "0    {'neg': 0.0, 'neu': 0.115, 'pos': 0.885, 'comp...\n",
       "1    {'neg': 0.0, 'neu': 0.256, 'pos': 0.744, 'comp...\n",
       "2    {'neg': 0.643, 'neu': 0.357, 'pos': 0.0, 'comp...\n",
       "3    {'neg': 0.131, 'neu': 0.414, 'pos': 0.455, 'co...\n",
       "4    {'neg': 0.0, 'neu': 0.423, 'pos': 0.577, 'comp...\n",
       "5    {'neg': 0.645, 'neu': 0.215, 'pos': 0.14, 'com...\n",
       "6    {'neg': 0.395, 'neu': 0.605, 'pos': 0.0, 'comp...\n",
       "7    {'neg': 0.0, 'neu': 0.63, 'pos': 0.37, 'compou...\n",
       "8    {'neg': 0.0, 'neu': 0.196, 'pos': 0.804, 'comp...\n",
       "9    {'neg': 0.0, 'neu': 0.196, 'pos': 0.804, 'comp...\n",
       "Name: Review, dtype: object"
      ]
     },
     "execution_count": 63,
     "metadata": {},
     "output_type": "execute_result"
    }
   ],
   "source": [
    "restaurant_df[\"Review\"][0:10].apply(lambda x: sia.polarity_scores(x))"
   ]
  },
  {
   "cell_type": "code",
   "execution_count": 64,
   "id": "902a7fcc-ef4f-4eac-95cb-36b6feda63d3",
   "metadata": {},
   "outputs": [
    {
     "data": {
      "text/html": [
       "<div>\n",
       "<style scoped>\n",
       "    .dataframe tbody tr th:only-of-type {\n",
       "        vertical-align: middle;\n",
       "    }\n",
       "\n",
       "    .dataframe tbody tr th {\n",
       "        vertical-align: top;\n",
       "    }\n",
       "\n",
       "    .dataframe thead th {\n",
       "        text-align: right;\n",
       "    }\n",
       "</style>\n",
       "<table border=\"1\" class=\"dataframe\">\n",
       "  <thead>\n",
       "    <tr style=\"text-align: right;\">\n",
       "      <th></th>\n",
       "      <th>Review</th>\n",
       "      <th>Liked</th>\n",
       "      <th>polarity_score</th>\n",
       "    </tr>\n",
       "  </thead>\n",
       "  <tbody>\n",
       "    <tr>\n",
       "      <th>0</th>\n",
       "      <td>wow loved place</td>\n",
       "      <td>1</td>\n",
       "      <td>0.8271</td>\n",
       "    </tr>\n",
       "    <tr>\n",
       "      <th>1</th>\n",
       "      <td>crust good</td>\n",
       "      <td>0</td>\n",
       "      <td>0.4404</td>\n",
       "    </tr>\n",
       "    <tr>\n",
       "      <th>2</th>\n",
       "      <td>tasty texture nasty</td>\n",
       "      <td>0</td>\n",
       "      <td>-0.5574</td>\n",
       "    </tr>\n",
       "    <tr>\n",
       "      <th>3</th>\n",
       "      <td>stopped late may bank holiday rick steve recom...</td>\n",
       "      <td>1</td>\n",
       "      <td>0.6908</td>\n",
       "    </tr>\n",
       "    <tr>\n",
       "      <th>4</th>\n",
       "      <td>selection menu great prices</td>\n",
       "      <td>1</td>\n",
       "      <td>0.6249</td>\n",
       "    </tr>\n",
       "    <tr>\n",
       "      <th>5</th>\n",
       "      <td>getting angry want damn pho</td>\n",
       "      <td>0</td>\n",
       "      <td>-0.6908</td>\n",
       "    </tr>\n",
       "    <tr>\n",
       "      <th>6</th>\n",
       "      <td>honeslty didnt taste fresh</td>\n",
       "      <td>0</td>\n",
       "      <td>-0.2411</td>\n",
       "    </tr>\n",
       "    <tr>\n",
       "      <th>7</th>\n",
       "      <td>potatoes like rubber could tell made ahead tim...</td>\n",
       "      <td>0</td>\n",
       "      <td>0.5719</td>\n",
       "    </tr>\n",
       "    <tr>\n",
       "      <th>8</th>\n",
       "      <td>fries great</td>\n",
       "      <td>1</td>\n",
       "      <td>0.6249</td>\n",
       "    </tr>\n",
       "    <tr>\n",
       "      <th>9</th>\n",
       "      <td>great touch</td>\n",
       "      <td>1</td>\n",
       "      <td>0.6249</td>\n",
       "    </tr>\n",
       "    <tr>\n",
       "      <th>10</th>\n",
       "      <td>service prompt</td>\n",
       "      <td>1</td>\n",
       "      <td>0.0000</td>\n",
       "    </tr>\n",
       "  </tbody>\n",
       "</table>\n",
       "</div>"
      ],
      "text/plain": [
       "                                               Review  Liked  polarity_score\n",
       "0                                     wow loved place      1          0.8271\n",
       "1                                          crust good      0          0.4404\n",
       "2                                 tasty texture nasty      0         -0.5574\n",
       "3   stopped late may bank holiday rick steve recom...      1          0.6908\n",
       "4                         selection menu great prices      1          0.6249\n",
       "5                         getting angry want damn pho      0         -0.6908\n",
       "6                          honeslty didnt taste fresh      0         -0.2411\n",
       "7   potatoes like rubber could tell made ahead tim...      0          0.5719\n",
       "8                                         fries great      1          0.6249\n",
       "9                                         great touch      1          0.6249\n",
       "10                                     service prompt      1          0.0000"
      ]
     },
     "execution_count": 64,
     "metadata": {},
     "output_type": "execute_result"
    }
   ],
   "source": [
    "restaurant_df[\"polarity_score\"] = restaurant_df[\"Review\"].apply(lambda x: sia.polarity_scores(x)[\"compound\"])\n",
    "restaurant_df.head(11)"
   ]
  },
  {
   "cell_type": "code",
   "execution_count": 65,
   "id": "08a8ea08-f369-4ef3-82eb-b3eca96ba15f",
   "metadata": {},
   "outputs": [
    {
     "data": {
      "text/plain": [
       "0     positive\n",
       "1     positive\n",
       "2     negative\n",
       "3     positive\n",
       "4     positive\n",
       "5     negative\n",
       "6     negative\n",
       "7     positive\n",
       "8     positive\n",
       "9     positive\n",
       "10     neutral\n",
       "Name: Review, dtype: object"
      ]
     },
     "execution_count": 65,
     "metadata": {},
     "output_type": "execute_result"
    }
   ],
   "source": [
    "restaurant_df[\"Review\"][0:11].apply(lambda x: \"positive\" if sia.polarity_scores(x)[\"compound\"] > 0 else (\"negative\" if sia.polarity_scores(x)[\"compound\"] < 0 else \"neutral\"))"
   ]
  },
  {
   "cell_type": "code",
   "execution_count": 66,
   "id": "25894d24-27b2-4ba2-9a88-8c8df55d61e5",
   "metadata": {},
   "outputs": [
    {
     "data": {
      "text/html": [
       "<div>\n",
       "<style scoped>\n",
       "    .dataframe tbody tr th:only-of-type {\n",
       "        vertical-align: middle;\n",
       "    }\n",
       "\n",
       "    .dataframe tbody tr th {\n",
       "        vertical-align: top;\n",
       "    }\n",
       "\n",
       "    .dataframe thead th {\n",
       "        text-align: right;\n",
       "    }\n",
       "</style>\n",
       "<table border=\"1\" class=\"dataframe\">\n",
       "  <thead>\n",
       "    <tr style=\"text-align: right;\">\n",
       "      <th></th>\n",
       "      <th>Review</th>\n",
       "      <th>Liked</th>\n",
       "      <th>polarity_score</th>\n",
       "      <th>sentiment_label</th>\n",
       "    </tr>\n",
       "  </thead>\n",
       "  <tbody>\n",
       "    <tr>\n",
       "      <th>0</th>\n",
       "      <td>wow loved place</td>\n",
       "      <td>1</td>\n",
       "      <td>0.8271</td>\n",
       "      <td>positive</td>\n",
       "    </tr>\n",
       "    <tr>\n",
       "      <th>1</th>\n",
       "      <td>crust good</td>\n",
       "      <td>0</td>\n",
       "      <td>0.4404</td>\n",
       "      <td>positive</td>\n",
       "    </tr>\n",
       "    <tr>\n",
       "      <th>2</th>\n",
       "      <td>tasty texture nasty</td>\n",
       "      <td>0</td>\n",
       "      <td>-0.5574</td>\n",
       "      <td>negative</td>\n",
       "    </tr>\n",
       "    <tr>\n",
       "      <th>3</th>\n",
       "      <td>stopped late may bank holiday rick steve recom...</td>\n",
       "      <td>1</td>\n",
       "      <td>0.6908</td>\n",
       "      <td>positive</td>\n",
       "    </tr>\n",
       "    <tr>\n",
       "      <th>4</th>\n",
       "      <td>selection menu great prices</td>\n",
       "      <td>1</td>\n",
       "      <td>0.6249</td>\n",
       "      <td>positive</td>\n",
       "    </tr>\n",
       "    <tr>\n",
       "      <th>5</th>\n",
       "      <td>getting angry want damn pho</td>\n",
       "      <td>0</td>\n",
       "      <td>-0.6908</td>\n",
       "      <td>negative</td>\n",
       "    </tr>\n",
       "    <tr>\n",
       "      <th>6</th>\n",
       "      <td>honeslty didnt taste fresh</td>\n",
       "      <td>0</td>\n",
       "      <td>-0.2411</td>\n",
       "      <td>negative</td>\n",
       "    </tr>\n",
       "    <tr>\n",
       "      <th>7</th>\n",
       "      <td>potatoes like rubber could tell made ahead tim...</td>\n",
       "      <td>0</td>\n",
       "      <td>0.5719</td>\n",
       "      <td>positive</td>\n",
       "    </tr>\n",
       "    <tr>\n",
       "      <th>8</th>\n",
       "      <td>fries great</td>\n",
       "      <td>1</td>\n",
       "      <td>0.6249</td>\n",
       "      <td>positive</td>\n",
       "    </tr>\n",
       "    <tr>\n",
       "      <th>9</th>\n",
       "      <td>great touch</td>\n",
       "      <td>1</td>\n",
       "      <td>0.6249</td>\n",
       "      <td>positive</td>\n",
       "    </tr>\n",
       "    <tr>\n",
       "      <th>10</th>\n",
       "      <td>service prompt</td>\n",
       "      <td>1</td>\n",
       "      <td>0.0000</td>\n",
       "      <td>neutral</td>\n",
       "    </tr>\n",
       "  </tbody>\n",
       "</table>\n",
       "</div>"
      ],
      "text/plain": [
       "                                               Review  Liked  polarity_score  \\\n",
       "0                                     wow loved place      1          0.8271   \n",
       "1                                          crust good      0          0.4404   \n",
       "2                                 tasty texture nasty      0         -0.5574   \n",
       "3   stopped late may bank holiday rick steve recom...      1          0.6908   \n",
       "4                         selection menu great prices      1          0.6249   \n",
       "5                         getting angry want damn pho      0         -0.6908   \n",
       "6                          honeslty didnt taste fresh      0         -0.2411   \n",
       "7   potatoes like rubber could tell made ahead tim...      0          0.5719   \n",
       "8                                         fries great      1          0.6249   \n",
       "9                                         great touch      1          0.6249   \n",
       "10                                     service prompt      1          0.0000   \n",
       "\n",
       "   sentiment_label  \n",
       "0         positive  \n",
       "1         positive  \n",
       "2         negative  \n",
       "3         positive  \n",
       "4         positive  \n",
       "5         negative  \n",
       "6         negative  \n",
       "7         positive  \n",
       "8         positive  \n",
       "9         positive  \n",
       "10         neutral  "
      ]
     },
     "execution_count": 66,
     "metadata": {},
     "output_type": "execute_result"
    }
   ],
   "source": [
    "restaurant_df[\"sentiment_label\"] = restaurant_df[\"Review\"].apply(lambda x: \"positive\" if sia.polarity_scores(x)[\"compound\"] > 0 else (\"negative\" if sia.polarity_scores(x)[\"compound\"] < 0 else \"neutral\"))\n",
    "restaurant_df.head(11)"
   ]
  },
  {
   "cell_type": "code",
   "execution_count": null,
   "id": "a63e73bb-512c-4238-be31-382dc33d9e35",
   "metadata": {},
   "outputs": [],
   "source": []
  }
 ],
 "metadata": {
  "kernelspec": {
   "display_name": "Python 3 (ipykernel)",
   "language": "python",
   "name": "python3"
  },
  "language_info": {
   "codemirror_mode": {
    "name": "ipython",
    "version": 3
   },
   "file_extension": ".py",
   "mimetype": "text/x-python",
   "name": "python",
   "nbconvert_exporter": "python",
   "pygments_lexer": "ipython3",
   "version": "3.11.7"
  }
 },
 "nbformat": 4,
 "nbformat_minor": 5
}
